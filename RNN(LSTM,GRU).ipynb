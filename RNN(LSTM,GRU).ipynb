{
  "nbformat": 4,
  "nbformat_minor": 0,
  "metadata": {
    "colab": {
      "name": "COMP4211 PA2 PartB.ipynb",
      "provenance": [],
      "collapsed_sections": []
    },
    "kernelspec": {
      "name": "python3",
      "display_name": "Python 3"
    },
    "accelerator": "GPU"
  },
  "cells": [
    {
      "cell_type": "code",
      "metadata": {
        "id": "wV9V-K4HfiLT",
        "colab_type": "code",
        "colab": {}
      },
      "source": [
        "# text_split = []\n",
        "# for i in range(len(train_text)):\n",
        "#   text_split.append(train_text[i].split())\n",
        "\n",
        "# train_text = convert(train_text[0])"
      ],
      "execution_count": 0,
      "outputs": []
    },
    {
      "cell_type": "code",
      "metadata": {
        "id": "ebyTbJTK1reX",
        "colab_type": "code",
        "colab": {}
      },
      "source": [
        "import torch\n",
        "import torch.nn as nn\n",
        "from torch.utils.data import DataLoader, Dataset\n",
        "from torch.optim import Adam, SGD\n",
        "\n",
        "import pandas as pd\n",
        "import numpy as np\n",
        "import matplotlib.pyplot as plt"
      ],
      "execution_count": 0,
      "outputs": []
    },
    {
      "cell_type": "code",
      "metadata": {
        "id": "Jx124v2CnUo2",
        "colab_type": "code",
        "colab": {}
      },
      "source": [
        "par2_path = '/content/drive/My Drive/Part2'\n",
        "trai_path = '/content/drive/My Drive/Part2/train.csv'\n",
        "test_path = '/content/drive/My Drive/Part2/test.csv'\n",
        "vali_path = '/content/drive/My Drive/Part2/validation.csv'\n",
        "subm_path = '/content/drive/My Drive/Part2/submission.csv'"
      ],
      "execution_count": 0,
      "outputs": []
    },
    {
      "cell_type": "code",
      "metadata": {
        "id": "Eo3WuWXXPWXW",
        "colab_type": "code",
        "outputId": "f1d27073-cb2f-44db-ffa7-d8bcb7a90d49",
        "colab": {
          "base_uri": "https://localhost:8080/",
          "height": 34
        }
      },
      "source": [
        "device = torch.device('cuda:0' if torch.cuda.is_available() else 'cpu')\n",
        "print('Current device:', device)"
      ],
      "execution_count": 3,
      "outputs": [
        {
          "output_type": "stream",
          "text": [
            "Current device: cuda:0\n"
          ],
          "name": "stdout"
        }
      ]
    },
    {
      "cell_type": "code",
      "metadata": {
        "id": "Egbyfv6cW3cy",
        "colab_type": "code",
        "outputId": "7c4e0a28-bb37-4e54-ec11-56c5344f02c8",
        "colab": {
          "base_uri": "https://localhost:8080/",
          "height": 51
        }
      },
      "source": [
        "from torchtext import *\n",
        "from torchtext.data import *\n",
        "\n",
        "import nltk\n",
        "nltk.download('punkt')\n",
        "from nltk import word_tokenize\n",
        "\n",
        "txt_field = data.Field(tokenize=word_tokenize, lower=True, include_lengths=True, batch_first=True)\n",
        "label_field = data.Field(sequential=False, use_vocab=False, batch_first=True)\n",
        "\n",
        "# make splits for data\n",
        "train_d, test_d, valid_d = TabularDataset.splits(path=par2_path, train=trai_path, test=test_path, validation=vali_path, format='csv', \n",
        "                                  fields=[('label', label_field), ('sentence', txt_field)], skip_header=True)\n",
        "\n",
        "# build the vocabulary on the training set only\n",
        "txt_field.build_vocab(train_d, min_freq=3)\n",
        "label_field.build_vocab(train_d)\n",
        "\n",
        "# make iterator for splits\n",
        "train_iter, test_iter, valid_iter = data.BucketIterator.splits((train_d, test_d, valid_d), batch_size=32, \n",
        "                                                   sort_key=lambda x: len(x.sentence),sort_within_batch=True, device=device)"
      ],
      "execution_count": 71,
      "outputs": [
        {
          "output_type": "stream",
          "text": [
            "[nltk_data] Downloading package punkt to /root/nltk_data...\n",
            "[nltk_data]   Package punkt is already up-to-date!\n"
          ],
          "name": "stdout"
        }
      ]
    },
    {
      "cell_type": "markdown",
      "metadata": {
        "id": "9kPtzDJWk8LR",
        "colab_type": "text"
      },
      "source": [
        "BASELINE MODEL(TRAINING)\n",
        "-------------------------------------------------------"
      ]
    },
    {
      "cell_type": "code",
      "metadata": {
        "id": "2U3NZWHux5RV",
        "colab_type": "code",
        "colab": {}
      },
      "source": [
        "class Text_RNN(nn.Module):\n",
        "    def __init__(self, size_of_vocab, embedding_dim, hidden_dim, num_layers, dropout_d, batch_first):\n",
        "        super().__init__()\n",
        "        self.emb = nn.Embedding(size_of_vocab, embedding_dim)\n",
        "        self.rnn = nn.RNN(\n",
        "                embedding_dim,\n",
        "                hidden_dim,\n",
        "                num_layers,\n",
        "                dropout=dropout_d,\n",
        "                batch_first=True\n",
        "        )\n",
        "        self.dropout = nn.Dropout(dropout_d)\n",
        "        self.fc = nn.Linear(hidden_dim * 2, 1)\n",
        "        self.act = nn.Sigmoid()\n",
        "\n",
        "    def forward(self, sent, sent_len):\n",
        "        \n",
        "        sent_emb = self.emb(sent)\n",
        "        send_emb = self.dropout(sent_emb)\n",
        "        packed_embedded = nn.utils.rnn.pack_padded_sequence(sent_emb, sent_len, batch_first=True)\n",
        "        packed_outputs, hidden = self.rnn(packed_embedded)\n",
        "        hidden = torch.cat((hidden[-1,:,:], hidden[-1,:,:]), dim = 1)\n",
        "        dense_outputs=self.fc(hidden)\n",
        "        outputs=self.act(dense_outputs)\n",
        "\n",
        "        return outputs"
      ],
      "execution_count": 0,
      "outputs": []
    },
    {
      "cell_type": "code",
      "metadata": {
        "id": "fiRRbnULx5Mw",
        "colab_type": "code",
        "outputId": "8f6488e8-de7b-40de-8161-3ae424db4f4a",
        "colab": {
          "base_uri": "https://localhost:8080/",
          "height": 258
        }
      },
      "source": [
        "size_of_vocab = len(txt_field.vocab)\n",
        "embedding_dim = 64\n",
        "num_hidden = 128\n",
        "num_layers = 1\n",
        "dropout_d = 0.5\n",
        "\n",
        "RNN_model = Text_RNN(size_of_vocab, embedding_dim, num_hidden, num_layers, dropout_d, batch_first=True)\n",
        "optimizer = optim.Adam(RNN_model.parameters())\n",
        "RNN_model = RNN_model.to(device)\n",
        "\n",
        "\n",
        "def count_parameters(RNN_model):\n",
        "    temp = sum(p.numel() for p in RNN_model.parameters() if p.requires_grad)\n",
        "    print(f'The RNN_model architecture:\\n\\n', RNN_model)\n",
        "    print(f'\\nThe RNN_model has {temp:,} trainable parameters')\n",
        "    \n",
        "count_parameters(RNN_model)"
      ],
      "execution_count": 41,
      "outputs": [
        {
          "output_type": "stream",
          "text": [
            "The RNN_model architecture:\n",
            "\n",
            " Text_RNN(\n",
            "  (emb): Embedding(51167, 64)\n",
            "  (rnn): RNN(64, 128, batch_first=True, dropout=0.5)\n",
            "  (dropout): Dropout(p=0.5, inplace=False)\n",
            "  (fc): Linear(in_features=256, out_features=1, bias=True)\n",
            "  (act): Sigmoid()\n",
            ")\n",
            "\n",
            "The RNN_model has 3,299,777 trainable parameters\n"
          ],
          "name": "stdout"
        },
        {
          "output_type": "stream",
          "text": [
            "/usr/local/lib/python3.6/dist-packages/torch/nn/modules/rnn.py:50: UserWarning: dropout option adds dropout after all but last recurrent layer, so non-zero dropout expects num_layers greater than 1, but got dropout=0.5 and num_layers=1\n",
            "  \"num_layers={}\".format(dropout, num_layers))\n"
          ],
          "name": "stderr"
        }
      ]
    },
    {
      "cell_type": "code",
      "metadata": {
        "id": "vBYwX4gWJ9lf",
        "colab_type": "code",
        "colab": {}
      },
      "source": [
        "import torch.optim as optim\n",
        "criterion = nn.MSELoss()"
      ],
      "execution_count": 0,
      "outputs": []
    },
    {
      "cell_type": "code",
      "metadata": {
        "id": "dljLF21q18vS",
        "colab_type": "code",
        "colab": {}
      },
      "source": [
        "#define metric\n",
        "def binary_accuracy(preds, y):\n",
        "    #round predictions to the closest integer\n",
        "    rounded_preds = torch.round(preds)\n",
        "    \n",
        "    correct = (rounded_preds == y).float() \n",
        "    acc = correct.sum() / len(correct)\n",
        "    return acc\n",
        "    \n",
        "#push to cuda if available\n",
        "criterion = criterion.to(device)"
      ],
      "execution_count": 0,
      "outputs": []
    },
    {
      "cell_type": "code",
      "metadata": {
        "id": "RmVknpjUMED4",
        "colab_type": "code",
        "colab": {}
      },
      "source": [
        "def train(model, iterator, optimizer, criterion):\n",
        "    \n",
        "    #initialize every epoch \n",
        "    epoch_loss = 0\n",
        "    epoch_acc = 0\n",
        "    \n",
        "    #set the model in training phase\n",
        "    model.train()  \n",
        "    \n",
        "    for batch in iterator:\n",
        "        \n",
        "        #resets the gradients after every batch\n",
        "        optimizer.zero_grad()   \n",
        "        \n",
        "        #retrieve text and no. of words\n",
        "        sent, sent_len = batch.sentence   \n",
        "        \n",
        "        #convert to 1D tensor\n",
        "        predictions = model(sent, sent_len).squeeze()\n",
        "        \n",
        "        #compute the loss\n",
        "        loss = criterion(predictions.float(), batch.label.float())      \n",
        "        \n",
        "        #compute the binary accuracy\n",
        "        acc = binary_accuracy(predictions, batch.label)   \n",
        "        \n",
        "        #backpropage the loss and compute the gradients\n",
        "        loss.backward()\n",
        "        \n",
        "        #update the weights\n",
        "        optimizer.step()      \n",
        "        \n",
        "        #loss and accuracy\n",
        "        epoch_loss += loss.item()  \n",
        "        epoch_acc += acc.item()    \n",
        "        \n",
        "    return epoch_loss / len(iterator), epoch_acc / len(iterator)"
      ],
      "execution_count": 0,
      "outputs": []
    },
    {
      "cell_type": "code",
      "metadata": {
        "id": "OwLLo7EpMEC4",
        "colab_type": "code",
        "colab": {}
      },
      "source": [
        "def evaluate(model, iterator, criterion):\n",
        "    \n",
        "    #initialize every epoch\n",
        "    epoch_loss = 0\n",
        "    epoch_acc = 0\n",
        "\n",
        "    #deactivating dropout layers\n",
        "    model.eval()\n",
        "    \n",
        "    #deactivates autograd\n",
        "    with torch.no_grad():\n",
        "    \n",
        "        for batch in iterator:\n",
        "        \n",
        "            #retrieve text and no. of words\n",
        "            sent, sent_len = batch.sentence\n",
        "            \n",
        "            #convert to 1d tensor\n",
        "            predictions = model(sent, sent_len).squeeze()\n",
        "            \n",
        "            #compute loss and accuracy\n",
        "            loss = criterion(predictions, batch.label)\n",
        "            acc = binary_accuracy(predictions, batch.label)\n",
        "            \n",
        "            #keep track of loss and accuracy\n",
        "            epoch_loss += loss.item()\n",
        "            epoch_acc += acc.item()\n",
        "        \n",
        "    return epoch_loss / len(iterator), epoch_acc / len(iterator)"
      ],
      "execution_count": 0,
      "outputs": []
    },
    {
      "cell_type": "code",
      "metadata": {
        "id": "lJLT6XmOMEAc",
        "colab_type": "code",
        "outputId": "7ff2a31c-2c23-40f8-afb8-0240d67094d2",
        "colab": {
          "base_uri": "https://localhost:8080/",
          "height": 369
        }
      },
      "source": [
        "N_EPOCHS = 10\n",
        "best_valid_loss = float('inf')\n",
        "\n",
        "Time = []\n",
        "TrainLoss = []\n",
        "ValidLoss = []\n",
        "TrainAccu = []\n",
        "ValidAccu = []\n",
        "\n",
        "for epoch in range(N_EPOCHS):\n",
        "     \n",
        "    #train the model\n",
        "    train_loss, train_acc = train(RNN_model, train_iter, optimizer, criterion)\n",
        "    \n",
        "    #evaluate the model\n",
        "    valid_loss, valid_acc = train(RNN_model, valid_iter, optimizer, criterion)\n",
        "    \n",
        "    #save the best model\n",
        "    if valid_loss < best_valid_loss:\n",
        "        best_valid_loss = valid_loss\n",
        "        torch.save(RNN_model.state_dict(), 'saved_weights.pt')\n",
        "\n",
        "    Time.append(epoch)\n",
        "    TrainLoss.append(train_loss)\n",
        "    ValidLoss.append(valid_loss)\n",
        "    TrainAccu.append(train_acc)\n",
        "    ValidAccu.append(valid_acc)\n",
        "\n",
        "    print(f'\\tTrain Loss: {train_loss:.3f} | Train Acc: {train_acc*100:.2f}%')\n",
        "    print(f'\\t Val. Loss: {valid_loss:.3f} |  Val. Acc: {valid_acc*100:.2f}%')"
      ],
      "execution_count": 0,
      "outputs": [
        {
          "output_type": "stream",
          "text": [
            "\tTrain Loss: 0.238 | Train Acc: 58.47%\n",
            "\t Val. Loss: 0.211 |  Val. Acc: 67.14%\n",
            "\tTrain Loss: 0.218 | Train Acc: 65.03%\n",
            "\t Val. Loss: 0.211 |  Val. Acc: 68.16%\n",
            "\tTrain Loss: 0.212 | Train Acc: 65.75%\n",
            "\t Val. Loss: 0.217 |  Val. Acc: 65.14%\n",
            "\tTrain Loss: 0.196 | Train Acc: 70.65%\n",
            "\t Val. Loss: 0.177 |  Val. Acc: 74.42%\n",
            "\tTrain Loss: 0.180 | Train Acc: 73.78%\n",
            "\t Val. Loss: 0.205 |  Val. Acc: 71.42%\n",
            "\tTrain Loss: 0.202 | Train Acc: 68.91%\n",
            "\t Val. Loss: 0.206 |  Val. Acc: 69.04%\n",
            "\tTrain Loss: 0.174 | Train Acc: 74.86%\n",
            "\t Val. Loss: 0.188 |  Val. Acc: 71.37%\n",
            "\tTrain Loss: 0.179 | Train Acc: 73.58%\n",
            "\t Val. Loss: 0.175 |  Val. Acc: 74.89%\n",
            "\tTrain Loss: 0.144 | Train Acc: 79.88%\n",
            "\t Val. Loss: 0.145 |  Val. Acc: 79.74%\n",
            "\tTrain Loss: 0.171 | Train Acc: 75.47%\n",
            "\t Val. Loss: 0.150 |  Val. Acc: 77.80%\n"
          ],
          "name": "stdout"
        }
      ]
    },
    {
      "cell_type": "code",
      "metadata": {
        "id": "m1K0FItPlhol",
        "colab_type": "code",
        "outputId": "1a568eb2-7c69-43cc-9054-ed7e5691d8e6",
        "colab": {
          "base_uri": "https://localhost:8080/",
          "height": 295
        }
      },
      "source": [
        "plt.plot(Time, TrainLoss, color='red', linewidth=3)\n",
        "plt.plot(Time, ValidLoss, color='blue', linewidth=3)\n",
        "plt.axis\n",
        "plt.title('red:TrainLoss, blue:ValidLoss')\n",
        "plt.xlabel('Time(epoch)')\n",
        "plt.ylabel('Loss')\n",
        "plt.show()"
      ],
      "execution_count": 0,
      "outputs": [
        {
          "output_type": "display_data",
          "data": {
            "image/png": "[encoded data removed]",
            "text/plain": [
              "<Figure size 432x288 with 1 Axes>"
            ]
          },
          "metadata": {
            "tags": [],
            "needs_background": "light"
          }
        }
      ]
    },
    {
      "cell_type": "code",
      "metadata": {
        "id": "fQFiY97Q-eaU",
        "colab_type": "code",
        "outputId": "b38c210a-4707-49d6-a87b-244344897eb9",
        "colab": {
          "base_uri": "https://localhost:8080/",
          "height": 295
        }
      },
      "source": [
        "plt.plot(Time, TrainAccu, color='red', linewidth=3)\n",
        "plt.plot(Time, ValidAccu, color='blue', linewidth=3)\n",
        "plt.axis\n",
        "plt.title('red:TrainAccu, blue:ValidAccu')\n",
        "plt.xlabel('Time')\n",
        "plt.ylabel('Accuracy')\n",
        "plt.show()"
      ],
      "execution_count": 0,
      "outputs": [
        {
          "output_type": "display_data",
          "data": {
            "image/png": "[encoded data removed]",
            "text/plain": [
              "<Figure size 432x288 with 1 Axes>"
            ]
          },
          "metadata": {
            "tags": [],
            "needs_background": "light"
          }
        }
      ]
    },
    {
      "cell_type": "markdown",
      "metadata": {
        "id": "l1Q0j67DlSiC",
        "colab_type": "text"
      },
      "source": [
        "BASELINE MODEL(TESTING)\n",
        "-------------------------------------------------------"
      ]
    },
    {
      "cell_type": "code",
      "metadata": {
        "id": "OjAoBy0TmuxZ",
        "colab_type": "code",
        "outputId": "5a05c927-ba09-4b6a-8b6a-f4952e5340a9",
        "colab": {
          "base_uri": "https://localhost:8080/",
          "height": 545
        }
      },
      "source": [
        "N_EPOCHS = 10\n",
        "best_valid_loss = float('inf')\n",
        "\n",
        "Time = []\n",
        "TestAccu = []\n",
        "TrainAccu = []\n",
        "ValidAccu = []\n",
        "TestLoss = []\n",
        "TrainLoss = []\n",
        "ValidLoss = []\n",
        "\n",
        "for epoch in range(N_EPOCHS):\n",
        "     \n",
        "    #train the model\n",
        "    test_loss, test_acc = train(RNN_model, test_iter, optimizer, criterion)\n",
        "    train_loss, train_acc = train(RNN_model, train_iter, optimizer, criterion)\n",
        "    valid_loss, valid_acc = train(RNN_model, valid_iter, optimizer, criterion)\n",
        "\n",
        "    #save the best model\n",
        "    if valid_loss < best_valid_loss:\n",
        "        best_valid_loss = valid_loss\n",
        "        torch.save(RNN_model.state_dict(), 'saved_weights.pt')\n",
        "\n",
        "    Time.append(epoch)\n",
        "    TrainLoss.append(train_loss)\n",
        "    ValidLoss.append(valid_loss)\n",
        "    TestLoss.append(test_loss)\n",
        "    TrainAccu.append(train_acc)\n",
        "    ValidAccu.append(valid_acc)\n",
        "    TestAccu.append(test_acc)\n",
        "\n",
        "    print(f'\\tTrain Loss: {train_loss:.3f} | Train Acc: {train_acc*100:.2f}%')\n",
        "    print(f'\\t Val. Loss: {valid_loss:.3f} |  Val. Acc: {valid_acc*100:.2f}%')\n",
        "    print(f'\\tTest Loss: {test_loss:.3f} | Test Acc: {test_acc*100:.2f}%')"
      ],
      "execution_count": 0,
      "outputs": [
        {
          "output_type": "stream",
          "text": [
            "\tTrain Loss: 0.232 | Train Acc: 60.07%\n",
            "\t Val. Loss: 0.208 |  Val. Acc: 67.52%\n",
            "\tTest Loss: 0.249 | Test Acc: 53.88%\n",
            "\tTrain Loss: 0.222 | Train Acc: 63.51%\n",
            "\t Val. Loss: 0.211 |  Val. Acc: 67.08%\n",
            "\tTest Loss: 0.212 | Test Acc: 66.12%\n",
            "\tTrain Loss: 0.224 | Train Acc: 62.50%\n",
            "\t Val. Loss: 0.176 |  Val. Acc: 75.65%\n",
            "\tTest Loss: 0.248 | Test Acc: 53.70%\n",
            "\tTrain Loss: 0.176 | Train Acc: 74.42%\n",
            "\t Val. Loss: 0.228 |  Val. Acc: 61.14%\n",
            "\tTest Loss: 0.178 | Test Acc: 74.34%\n",
            "\tTrain Loss: 0.175 | Train Acc: 74.13%\n",
            "\t Val. Loss: 0.169 |  Val. Acc: 74.87%\n",
            "\tTest Loss: 0.226 | Test Acc: 62.10%\n",
            "\tTrain Loss: 0.177 | Train Acc: 73.26%\n",
            "\t Val. Loss: 0.200 |  Val. Acc: 68.42%\n",
            "\tTest Loss: 0.166 | Test Acc: 76.71%\n",
            "\tTrain Loss: 0.169 | Train Acc: 75.38%\n",
            "\t Val. Loss: 0.141 |  Val. Acc: 80.70%\n",
            "\tTest Loss: 0.211 | Test Acc: 66.22%\n",
            "\tTrain Loss: 0.132 | Train Acc: 82.07%\n",
            "\t Val. Loss: 0.122 |  Val. Acc: 83.59%\n",
            "\tTest Loss: 0.145 | Test Acc: 80.49%\n",
            "\tTrain Loss: 0.134 | Train Acc: 81.57%\n",
            "\t Val. Loss: 0.127 |  Val. Acc: 83.10%\n",
            "\tTest Loss: 0.126 | Test Acc: 83.26%\n",
            "\tTrain Loss: 0.115 | Train Acc: 84.67%\n",
            "\t Val. Loss: 0.105 |  Val. Acc: 86.23%\n",
            "\tTest Loss: 0.134 | Test Acc: 82.07%\n"
          ],
          "name": "stdout"
        }
      ]
    },
    {
      "cell_type": "code",
      "metadata": {
        "id": "Fr23abZImuot",
        "colab_type": "code",
        "outputId": "7223f699-4f8a-4a84-eb81-89105fdff81b",
        "colab": {
          "base_uri": "https://localhost:8080/",
          "height": 295
        }
      },
      "source": [
        "plt.plot(Time, TrainAccu, color='red', linewidth=3)\n",
        "plt.plot(Time, ValidAccu, color='blue', linewidth=3)\n",
        "plt.plot(Time, TestAccu, color='orange', linewidth=3)\n",
        "plt.axis\n",
        "plt.title('orange:TestAccu, red:TrainAccu, blue:ValidAccu')\n",
        "plt.xlabel('Time')\n",
        "plt.ylabel('Accuracy')\n",
        "plt.show()"
      ],
      "execution_count": 0,
      "outputs": [
        {
          "output_type": "display_data",
          "data": {
            "image/png": "[encoded data removed]",
            "text/plain": [
              "<Figure size 432x288 with 1 Axes>"
            ]
          },
          "metadata": {
            "tags": [],
            "needs_background": "light"
          }
        }
      ]
    },
    {
      "cell_type": "code",
      "metadata": {
        "id": "3UNWoYkGmuhl",
        "colab_type": "code",
        "outputId": "b9eb4c18-0b72-4f49-ed06-a36ba9327a6e",
        "colab": {
          "base_uri": "https://localhost:8080/",
          "height": 295
        }
      },
      "source": [
        "plt.plot(Time, TrainLoss, color='red', linewidth=3)\n",
        "plt.plot(Time, ValidLoss, color='blue', linewidth=3)\n",
        "plt.plot(Time, TestLoss, color='orange', linewidth=3)\n",
        "plt.axis\n",
        "plt.title('orange:TestLoss, red:TrainLoss, blue:ValidLoss')\n",
        "plt.xlabel('Time')\n",
        "plt.ylabel('Loss')\n",
        "plt.show()"
      ],
      "execution_count": 0,
      "outputs": [
        {
          "output_type": "display_data",
          "data": {
            "image/png": "[encoded data removed]",
            "text/plain": [
              "<Figure size 432x288 with 1 Axes>"
            ]
          },
          "metadata": {
            "tags": [],
            "needs_background": "light"
          }
        }
      ]
    },
    {
      "cell_type": "markdown",
      "metadata": {
        "id": "JLHkkw0IvFa2",
        "colab_type": "text"
      },
      "source": [
        "4MODELS\n",
        "-------------------------------------\n",
        "---------------------------------------"
      ]
    },
    {
      "cell_type": "markdown",
      "metadata": {
        "id": "8aqVczS-vbMn",
        "colab_type": "text"
      },
      "source": [
        "MODEL1 - GRU"
      ]
    },
    {
      "cell_type": "code",
      "metadata": {
        "id": "WupTo0VtvPZY",
        "colab_type": "code",
        "colab": {}
      },
      "source": [
        "class Text_GRU(nn.Module):\n",
        "    def __init__(self, vocab_size, embedding_dim, hidden_dim, num_output, num_layers, dropout_d, bidirectional):\n",
        "        super().__init__()\n",
        "        self.emb = nn.Embedding(vocab_size, embedding_dim)\n",
        "        self.lstm = nn.GRU(embedding_dim, \n",
        "                           hidden_dim, \n",
        "                           num_layers, \n",
        "                           bidirectional=bidirectional, \n",
        "                           dropout=dropout_d,\n",
        "                           batch_first=True)\n",
        "        \n",
        "        self.fc = nn.Linear(hidden_dim, num_output)\n",
        "        self.act = nn.Sigmoid()\n",
        "\n",
        "    def forward(self, sent, sent_len):\n",
        "\n",
        "        sent_emb = self.emb(sent)\n",
        "        packed_embedded = nn.utils.rnn.pack_padded_sequence(sent_emb, sent_len, batch_first=True)\n",
        "        packed_outputs, (hidden, cell) = self.lstm(packed_embedded)\n",
        "        dense_outputs=self.fc(hidden)\n",
        "        outputs=self.act(dense_outputs)\n",
        "\n",
        "        return outputs"
      ],
      "execution_count": 0,
      "outputs": []
    },
    {
      "cell_type": "code",
      "metadata": {
        "id": "Nb8lqRpBvVpb",
        "colab_type": "code",
        "outputId": "548d78de-7715-4145-8372-a36291ee6c6e",
        "colab": {
          "base_uri": "https://localhost:8080/",
          "height": 241
        }
      },
      "source": [
        "size_of_vocab = len(txt_field.vocab)\n",
        "embedding_dim = 64\n",
        "num_hidden = 128\n",
        "num_output = 1\n",
        "num_layers = 1\n",
        "dropout_d = 0.5\n",
        "\n",
        "Model1 = Text_GRU(size_of_vocab, embedding_dim, num_hidden,num_output, num_layers, dropout_d, bidirectional = True)\n",
        "optimizer = optim.Adam(Model1.parameters())\n",
        "Model1 = Model1.to(device)\n",
        "\n",
        "def count_parameters(Model1):\n",
        "    temp = sum(p.numel() for p in Model1.parameters() if p.requires_grad)\n",
        "    print(f'The Model1 architecture:\\n\\n', Model1)\n",
        "    print(f'\\nThe Model1 has {temp:,} trainable parameters')\n",
        "    \n",
        "count_parameters(Model1)"
      ],
      "execution_count": 57,
      "outputs": [
        {
          "output_type": "stream",
          "text": [
            "The Model1 architecture:\n",
            "\n",
            " Text_GRU(\n",
            "  (emb): Embedding(51167, 64)\n",
            "  (lstm): GRU(64, 128, batch_first=True, dropout=0.5, bidirectional=True)\n",
            "  (fc): Linear(in_features=128, out_features=1, bias=True)\n",
            "  (act): Sigmoid()\n",
            ")\n",
            "\n",
            "The Model1 has 3,423,809 trainable parameters\n"
          ],
          "name": "stdout"
        },
        {
          "output_type": "stream",
          "text": [
            "/usr/local/lib/python3.6/dist-packages/torch/nn/modules/rnn.py:50: UserWarning: dropout option adds dropout after all but last recurrent layer, so non-zero dropout expects num_layers greater than 1, but got dropout=0.5 and num_layers=1\n",
            "  \"num_layers={}\".format(dropout, num_layers))\n"
          ],
          "name": "stderr"
        }
      ]
    },
    {
      "cell_type": "code",
      "metadata": {
        "id": "1RF2p974yb-1",
        "colab_type": "code",
        "outputId": "9cf99675-a347-47dc-ae18-6df92fdd00b1",
        "colab": {
          "base_uri": "https://localhost:8080/",
          "height": 369
        }
      },
      "source": [
        "N_EPOCHS = 10\n",
        "best_valid_loss = float('inf')\n",
        "\n",
        "Time = []\n",
        "TrainLoss = []\n",
        "ValidLoss = []\n",
        "TrainAccu = []\n",
        "ValidAccu = []\n",
        "\n",
        "for epoch in range(N_EPOCHS):\n",
        "     \n",
        "\n",
        "    train_loss, train_acc = train(Model1, train_iter, optimizer, criterion)\n",
        "    valid_loss, valid_acc = train(Model1, valid_iter, optimizer, criterion)\n",
        "    \n",
        "    #save the best model\n",
        "    if valid_loss < best_valid_loss:\n",
        "        best_valid_loss = valid_loss\n",
        "        torch.save(Model1.state_dict(), 'saved_weights.pt')\n",
        "\n",
        "    Time.append(epoch)\n",
        "    TrainLoss.append(train_loss)\n",
        "    ValidLoss.append(valid_loss)\n",
        "    TrainAccu.append(train_acc)\n",
        "    ValidAccu.append(valid_acc)\n",
        "\n",
        "    print(f'\\tTrain Loss: {train_loss:.3f} | Train Acc: {train_acc*100:.2f}%')\n",
        "    print(f'\\t Val. Loss: {valid_loss:.3f} |  Val. Acc: {valid_acc*100:.2f}%')"
      ],
      "execution_count": 0,
      "outputs": [
        {
          "output_type": "stream",
          "text": [
            "\tTrain Loss: 0.188 | Train Acc: 70.03%\n",
            "\t Val. Loss: 0.100 |  Val. Acc: 85.99%\n",
            "\tTrain Loss: 0.077 | Train Acc: 89.66%\n",
            "\t Val. Loss: 0.066 |  Val. Acc: 90.97%\n",
            "\tTrain Loss: 0.051 | Train Acc: 93.45%\n",
            "\t Val. Loss: 0.048 |  Val. Acc: 93.95%\n",
            "\tTrain Loss: 0.035 | Train Acc: 95.70%\n",
            "\t Val. Loss: 0.037 |  Val. Acc: 95.57%\n",
            "\tTrain Loss: 0.024 | Train Acc: 97.21%\n",
            "\t Val. Loss: 0.027 |  Val. Acc: 96.44%\n",
            "\tTrain Loss: 0.018 | Train Acc: 97.99%\n",
            "\t Val. Loss: 0.022 |  Val. Acc: 97.47%\n",
            "\tTrain Loss: 0.014 | Train Acc: 98.48%\n",
            "\t Val. Loss: 0.015 |  Val. Acc: 98.24%\n",
            "\tTrain Loss: 0.012 | Train Acc: 98.72%\n",
            "\t Val. Loss: 0.013 |  Val. Acc: 98.60%\n",
            "\tTrain Loss: 0.011 | Train Acc: 98.87%\n",
            "\t Val. Loss: 0.014 |  Val. Acc: 98.57%\n",
            "\tTrain Loss: 0.010 | Train Acc: 98.89%\n",
            "\t Val. Loss: 0.011 |  Val. Acc: 98.77%\n"
          ],
          "name": "stdout"
        }
      ]
    },
    {
      "cell_type": "code",
      "metadata": {
        "id": "m-Q_z2Z-1wUm",
        "colab_type": "code",
        "outputId": "b3393d78-a361-4bf0-8a1e-0054a7dd7adc",
        "colab": {
          "base_uri": "https://localhost:8080/",
          "height": 295
        }
      },
      "source": [
        "plt.plot(Time, TrainAccu, color='red', linewidth=3)\n",
        "plt.plot(Time, ValidAccu, color='blue', linewidth=3)\n",
        "plt.axis\n",
        "plt.title('red:TrainAccu, blue:ValidAccu')\n",
        "plt.xlabel('Time')\n",
        "plt.ylabel('Accuracy')\n",
        "plt.show()"
      ],
      "execution_count": 0,
      "outputs": [
        {
          "output_type": "display_data",
          "data": {
            "image/png": "[encoded data removed]",
            "text/plain": [
              "<Figure size 432x288 with 1 Axes>"
            ]
          },
          "metadata": {
            "tags": [],
            "needs_background": "light"
          }
        }
      ]
    },
    {
      "cell_type": "code",
      "metadata": {
        "id": "BN-XqaDQ1wKo",
        "colab_type": "code",
        "outputId": "c4bca2d7-596a-4529-c070-f6a4b0e8f008",
        "colab": {
          "base_uri": "https://localhost:8080/",
          "height": 295
        }
      },
      "source": [
        "plt.plot(Time, TrainLoss, color='red', linewidth=3)\n",
        "plt.plot(Time, ValidLoss, color='blue', linewidth=3)\n",
        "plt.axis\n",
        "plt.title('red:TrainLoss, blue:ValidLoss')\n",
        "plt.xlabel('Time')\n",
        "plt.ylabel('Loss')\n",
        "plt.show()"
      ],
      "execution_count": 0,
      "outputs": [
        {
          "output_type": "display_data",
          "data": {
            "image/png": "[encoded data removed]",
            "text/plain": [
              "<Figure size 432x288 with 1 Axes>"
            ]
          },
          "metadata": {
            "tags": [],
            "needs_background": "light"
          }
        }
      ]
    },
    {
      "cell_type": "markdown",
      "metadata": {
        "id": "ufpBcMkY33D8",
        "colab_type": "text"
      },
      "source": [
        "MODEL2 - LSTM(bi=no, em=yes)"
      ]
    },
    {
      "cell_type": "code",
      "metadata": {
        "colab_type": "code",
        "id": "0my9LMG6kCFF",
        "colab": {}
      },
      "source": [
        "class Text_LSTM1(nn.Module):\n",
        "    def __init__(self, vocab_size, embedding_dim, hidden_dim, output_dim, num_layers, dropout_d, bidirectional):\n",
        "        super().__init__()\n",
        "        self.emb = nn.Embedding(vocab_size, embedding_dim)\n",
        "        self.lstm = nn.LSTM(embedding_dim, \n",
        "                           hidden_dim, \n",
        "                           num_layers, \n",
        "                           bidirectional=False, \n",
        "                           dropout=dropout_d,\n",
        "                           batch_first=True)\n",
        "        \n",
        "        self.dropout = nn.Dropout(dropout_d)\n",
        "        self.fc = nn.Linear(hidden_dim, output_dim)\n",
        "        self.act = nn.Sigmoid()\n",
        "\n",
        "    def forward(self, sent, sent_len):\n",
        "\n",
        "        \n",
        "        sent_emb = self.emb(sent)\n",
        "        send_emb = self.dropout(sent_emb)\n",
        "        packed_embedded = nn.utils.rnn.pack_padded_sequence(sent_emb, sent_len, batch_first=True)\n",
        "        packed_outputs, (hidden, cell) = self.lstm(packed_embedded)\n",
        "        dense_outputs=self.fc(hidden)\n",
        "        outputs=self.act(dense_outputs)\n",
        "\n",
        "        return outputs\n",
        "        "
      ],
      "execution_count": 0,
      "outputs": []
    },
    {
      "cell_type": "code",
      "metadata": {
        "colab_type": "code",
        "outputId": "89508065-2a65-461e-e62b-32de53738814",
        "id": "9vybLuf0kCFP",
        "colab": {
          "base_uri": "https://localhost:8080/",
          "height": 258
        }
      },
      "source": [
        "size_of_vocab = len(txt_field.vocab)\n",
        "embedding_dim = 64\n",
        "num_hidden = 128\n",
        "num_output = 1\n",
        "num_layers = 1\n",
        "dropout_d = 0.5\n",
        "\n",
        "Model2 = Text_LSTM1(size_of_vocab, embedding_dim, num_hidden,num_output, num_layers, dropout_d, bidirectional=False)\n",
        "optimizer = optim.Adam(Model2.parameters())\n",
        "Model2 = Model2.to(device)\n",
        "\n",
        "def count_parameters(Model2):\n",
        "    temp = sum(p.numel() for p in Model2.parameters() if p.requires_grad)\n",
        "    print(f'The Model2 architecture:\\n\\n', Model2)\n",
        "    print(f'\\nThe Model2 has {temp:,} trainable parameters')\n",
        "    \n",
        "count_parameters(Model2)"
      ],
      "execution_count": 65,
      "outputs": [
        {
          "output_type": "stream",
          "text": [
            "The Model2 architecture:\n",
            "\n",
            " Text_LSTM1(\n",
            "  (emb): Embedding(51167, 64)\n",
            "  (lstm): LSTM(64, 128, batch_first=True, dropout=0.5)\n",
            "  (dropout): Dropout(p=0.5, inplace=False)\n",
            "  (fc): Linear(in_features=128, out_features=1, bias=True)\n",
            "  (act): Sigmoid()\n",
            ")\n",
            "\n",
            "The Model2 has 3,374,145 trainable parameters\n"
          ],
          "name": "stdout"
        },
        {
          "output_type": "stream",
          "text": [
            "/usr/local/lib/python3.6/dist-packages/torch/nn/modules/rnn.py:50: UserWarning: dropout option adds dropout after all but last recurrent layer, so non-zero dropout expects num_layers greater than 1, but got dropout=0.5 and num_layers=1\n",
            "  \"num_layers={}\".format(dropout, num_layers))\n"
          ],
          "name": "stderr"
        }
      ]
    },
    {
      "cell_type": "code",
      "metadata": {
        "id": "yQB25LN915rP",
        "colab_type": "code",
        "outputId": "8573664e-4c5d-43f0-9aea-04a47a2911fd",
        "colab": {
          "base_uri": "https://localhost:8080/",
          "height": 369
        }
      },
      "source": [
        "N_EPOCHS = 10\n",
        "best_valid_loss = float('inf')\n",
        "\n",
        "Time = []\n",
        "TrainLoss = []\n",
        "ValidLoss = []\n",
        "TrainAccu = []\n",
        "ValidAccu = []\n",
        "\n",
        "for epoch in range(N_EPOCHS):\n",
        "     \n",
        "\n",
        "    train_loss, train_acc = train(Model2, train_iter, optimizer, criterion)\n",
        "    valid_loss, valid_acc = train(Model2, valid_iter, optimizer, criterion)\n",
        "    \n",
        "    #save the best model\n",
        "    if valid_loss < best_valid_loss:\n",
        "        best_valid_loss = valid_loss\n",
        "        torch.save(Model2.state_dict(), 'saved_weights.pt')\n",
        "\n",
        "    Time.append(epoch)\n",
        "    TrainLoss.append(train_loss)\n",
        "    ValidLoss.append(valid_loss)\n",
        "    TrainAccu.append(train_acc)\n",
        "    ValidAccu.append(valid_acc)\n",
        "\n",
        "    print(f'\\tTrain Loss: {train_loss:.3f} | Train Acc: {train_acc*100:.2f}%')\n",
        "    print(f'\\t Val. Loss: {valid_loss:.3f} |  Val. Acc: {valid_acc*100:.2f}%')"
      ],
      "execution_count": 0,
      "outputs": [
        {
          "output_type": "stream",
          "text": [
            "\tTrain Loss: 0.211 | Train Acc: 66.14%\n",
            "\t Val. Loss: 0.170 |  Val. Acc: 76.47%\n",
            "\tTrain Loss: 0.136 | Train Acc: 81.25%\n",
            "\t Val. Loss: 0.107 |  Val. Acc: 85.37%\n",
            "\tTrain Loss: 0.094 | Train Acc: 87.45%\n",
            "\t Val. Loss: 0.122 |  Val. Acc: 83.27%\n",
            "\tTrain Loss: 0.075 | Train Acc: 90.27%\n",
            "\t Val. Loss: 0.094 |  Val. Acc: 88.57%\n",
            "\tTrain Loss: 0.056 | Train Acc: 93.00%\n",
            "\t Val. Loss: 0.056 |  Val. Acc: 92.82%\n",
            "\tTrain Loss: 0.041 | Train Acc: 95.04%\n",
            "\t Val. Loss: 0.045 |  Val. Acc: 94.41%\n",
            "\tTrain Loss: 0.031 | Train Acc: 96.25%\n",
            "\t Val. Loss: 0.038 |  Val. Acc: 95.45%\n",
            "\tTrain Loss: 0.024 | Train Acc: 97.30%\n",
            "\t Val. Loss: 0.033 |  Val. Acc: 96.32%\n",
            "\tTrain Loss: 0.019 | Train Acc: 97.86%\n",
            "\t Val. Loss: 0.028 |  Val. Acc: 96.94%\n",
            "\tTrain Loss: 0.016 | Train Acc: 98.20%\n",
            "\t Val. Loss: 0.024 |  Val. Acc: 97.27%\n"
          ],
          "name": "stdout"
        }
      ]
    },
    {
      "cell_type": "code",
      "metadata": {
        "colab_type": "code",
        "id": "uQGhvFqh158a",
        "outputId": "202ae92e-e0d1-4952-cd0f-713aa03a18a3",
        "colab": {
          "base_uri": "https://localhost:8080/",
          "height": 295
        }
      },
      "source": [
        "plt.plot(Time, TrainAccu, color='red', linewidth=3)\n",
        "plt.plot(Time, ValidAccu, color='blue', linewidth=3)\n",
        "plt.axis\n",
        "plt.title('red:TrainAccu, blue:ValidAccu')\n",
        "plt.xlabel('Time')\n",
        "plt.ylabel('Accuracy')\n",
        "plt.show()"
      ],
      "execution_count": 0,
      "outputs": [
        {
          "output_type": "display_data",
          "data": {
            "image/png": "[encoded data removed]",
            "text/plain": [
              "<Figure size 432x288 with 1 Axes>"
            ]
          },
          "metadata": {
            "tags": [],
            "needs_background": "light"
          }
        }
      ]
    },
    {
      "cell_type": "code",
      "metadata": {
        "colab_type": "code",
        "id": "faZBG0Ka158d",
        "outputId": "5c95c1fd-4f03-4dad-87a0-83458cc50935",
        "colab": {
          "base_uri": "https://localhost:8080/",
          "height": 295
        }
      },
      "source": [
        "plt.plot(Time, TrainLoss, color='red', linewidth=3)\n",
        "plt.plot(Time, ValidLoss, color='blue', linewidth=3)\n",
        "plt.axis\n",
        "plt.title('red:TrainLoss, blue:ValidLoss')\n",
        "plt.xlabel('Time')\n",
        "plt.ylabel('Loss')\n",
        "plt.show()"
      ],
      "execution_count": 0,
      "outputs": [
        {
          "output_type": "display_data",
          "data": {
            "image/png": "[encoded data removed]",
            "text/plain": [
              "<Figure size 432x288 with 1 Axes>"
            ]
          },
          "metadata": {
            "tags": [],
            "needs_background": "light"
          }
        }
      ]
    },
    {
      "cell_type": "markdown",
      "metadata": {
        "id": "mo3T7KHP6fNA",
        "colab_type": "text"
      },
      "source": [
        "MODEL3 - LSTM(bi=yes, em=yes)"
      ]
    },
    {
      "cell_type": "code",
      "metadata": {
        "colab_type": "code",
        "id": "9pqdGFOa674M",
        "colab": {}
      },
      "source": [
        "class Text_LSTM2(nn.Module):\n",
        "    def __init__(self, vocab_size, embedding_dim, hidden_dim, output_dim, num_layers, dropout_d, bidirectional):\n",
        "        super().__init__()\n",
        "        self.emb = nn.Embedding(vocab_size, embedding_dim)\n",
        "        self.lstm = nn.LSTM(embedding_dim, \n",
        "                           hidden_dim, \n",
        "                           num_layers, \n",
        "                           bidirectional=True, \n",
        "                           dropout=dropout_d,\n",
        "                           batch_first=True)\n",
        "        \n",
        "        self.dropout = nn.Dropout(dropout_d)\n",
        "        self.fc = nn.Linear(hidden_dim * 2, output_dim)\n",
        "        self.act = nn.Sigmoid()\n",
        "\n",
        "    def forward(self, sent, sent_len):\n",
        "\n",
        "        \n",
        "        sent_emb = self.emb(sent)\n",
        "        send_emb = self.dropout(sent_emb)\n",
        "        packed_embedded = nn.utils.rnn.pack_padded_sequence(sent_emb, sent_len, batch_first=True)\n",
        "        packed_outputs, (hidden, cell) = self.lstm(packed_embedded)\n",
        "        hidden = torch.cat((hidden[-2,:,:], hidden[-1,:,:]), dim = 1)\n",
        "        dense_outputs=self.fc(hidden)\n",
        "        outputs=self.act(dense_outputs)\n",
        "\n",
        "        return outputs\n",
        "        "
      ],
      "execution_count": 0,
      "outputs": []
    },
    {
      "cell_type": "code",
      "metadata": {
        "colab_type": "code",
        "outputId": "a1ace17a-a3c7-40e4-eaca-f28adef0ea38",
        "id": "vLt8D8vi674d",
        "colab": {
          "base_uri": "https://localhost:8080/",
          "height": 258
        }
      },
      "source": [
        "size_of_vocab = len(txt_field.vocab)\n",
        "embedding_dim = 64\n",
        "num_hidden = 128\n",
        "num_output = 1\n",
        "num_layers = 1\n",
        "dropout_d = 0.5\n",
        "\n",
        "Model3 = Text_LSTM2(size_of_vocab, embedding_dim, num_hidden,num_output, num_layers, dropout_d, bidirectional=True)\n",
        "optimizer = optim.Adam(Model3.parameters())\n",
        "Model3 = Model3.to(device)\n",
        "\n",
        "def count_parameters(Model3):\n",
        "    temp = sum(p.numel() for p in Model3.parameters() if p.requires_grad)\n",
        "    print(f'The Model3 architecture:\\n\\n', Model3)\n",
        "    print(f'\\nThe Model3 has {temp:,} trainable parameters')\n",
        "    \n",
        "count_parameters(Model3)"
      ],
      "execution_count": 74,
      "outputs": [
        {
          "output_type": "stream",
          "text": [
            "The Model3 architecture:\n",
            "\n",
            " Text_LSTM2(\n",
            "  (emb): Embedding(51167, 64)\n",
            "  (lstm): LSTM(64, 128, batch_first=True, dropout=0.5, bidirectional=True)\n",
            "  (dropout): Dropout(p=0.5, inplace=False)\n",
            "  (fc): Linear(in_features=256, out_features=1, bias=True)\n",
            "  (act): Sigmoid()\n",
            ")\n",
            "\n",
            "The Model3 has 3,473,601 trainable parameters\n"
          ],
          "name": "stdout"
        },
        {
          "output_type": "stream",
          "text": [
            "/usr/local/lib/python3.6/dist-packages/torch/nn/modules/rnn.py:50: UserWarning: dropout option adds dropout after all but last recurrent layer, so non-zero dropout expects num_layers greater than 1, but got dropout=0.5 and num_layers=1\n",
            "  \"num_layers={}\".format(dropout, num_layers))\n"
          ],
          "name": "stderr"
        }
      ]
    },
    {
      "cell_type": "code",
      "metadata": {
        "colab_type": "code",
        "outputId": "3bac65b6-b5d9-40c6-c8f1-a9d39715bf5e",
        "id": "AEIUZQ36674h",
        "colab": {
          "base_uri": "https://localhost:8080/",
          "height": 369
        }
      },
      "source": [
        "N_EPOCHS = 10\n",
        "best_valid_loss = float('inf')\n",
        "\n",
        "Time = []\n",
        "TrainLoss = []\n",
        "ValidLoss = []\n",
        "TrainAccu = []\n",
        "ValidAccu = []\n",
        "\n",
        "for epoch in range(N_EPOCHS):\n",
        "     \n",
        "\n",
        "    train_loss, train_acc = train(Model3, train_iter, optimizer, criterion)\n",
        "    valid_loss, valid_acc = train(Model3, valid_iter, optimizer, criterion)\n",
        "    \n",
        "    #save the best model\n",
        "    if valid_loss < best_valid_loss:\n",
        "        best_valid_loss = valid_loss\n",
        "        torch.save(Model3.state_dict(), 'saved_weights.pt')\n",
        "\n",
        "    Time.append(epoch)\n",
        "    TrainLoss.append(train_loss)\n",
        "    ValidLoss.append(valid_loss)\n",
        "    TrainAccu.append(train_acc)\n",
        "    ValidAccu.append(valid_acc)\n",
        "\n",
        "    print(f'\\tTrain Loss: {train_loss:.3f} | Train Acc: {train_acc*100:.2f}%')\n",
        "    print(f'\\t Val. Loss: {valid_loss:.3f} |  Val. Acc: {valid_acc*100:.2f}%')"
      ],
      "execution_count": 0,
      "outputs": [
        {
          "output_type": "stream",
          "text": [
            "\tTrain Loss: 0.198 | Train Acc: 69.33%\n",
            "\t Val. Loss: 0.182 |  Val. Acc: 73.88%\n",
            "\tTrain Loss: 0.162 | Train Acc: 76.51%\n",
            "\t Val. Loss: 0.113 |  Val. Acc: 84.50%\n",
            "\tTrain Loss: 0.083 | Train Acc: 88.74%\n",
            "\t Val. Loss: 0.074 |  Val. Acc: 90.08%\n",
            "\tTrain Loss: 0.056 | Train Acc: 92.84%\n",
            "\t Val. Loss: 0.055 |  Val. Acc: 92.93%\n",
            "\tTrain Loss: 0.040 | Train Acc: 95.09%\n",
            "\t Val. Loss: 0.039 |  Val. Acc: 95.21%\n",
            "\tTrain Loss: 0.029 | Train Acc: 96.62%\n",
            "\t Val. Loss: 0.028 |  Val. Acc: 96.81%\n",
            "\tTrain Loss: 0.021 | Train Acc: 97.69%\n",
            "\t Val. Loss: 0.022 |  Val. Acc: 97.61%\n",
            "\tTrain Loss: 0.016 | Train Acc: 98.26%\n",
            "\t Val. Loss: 0.022 |  Val. Acc: 97.37%\n",
            "\tTrain Loss: 0.013 | Train Acc: 98.63%\n",
            "\t Val. Loss: 0.015 |  Val. Acc: 98.04%\n",
            "\tTrain Loss: 0.011 | Train Acc: 98.84%\n",
            "\t Val. Loss: 0.013 |  Val. Acc: 98.60%\n"
          ],
          "name": "stdout"
        }
      ]
    },
    {
      "cell_type": "code",
      "metadata": {
        "colab_type": "code",
        "id": "Hxiu4xEX674l",
        "outputId": "9c667595-19c8-4b27-c109-45a9286b0af4",
        "colab": {
          "base_uri": "https://localhost:8080/",
          "height": 295
        }
      },
      "source": [
        "plt.plot(Time, TrainAccu, color='red', linewidth=3)\n",
        "plt.plot(Time, ValidAccu, color='blue', linewidth=3)\n",
        "plt.axis\n",
        "plt.title('red:TrainAccu, blue:ValidAccu')\n",
        "plt.xlabel('Time')\n",
        "plt.ylabel('Accuracy')\n",
        "plt.show()"
      ],
      "execution_count": 0,
      "outputs": [
        {
          "output_type": "display_data",
          "data": {
            "image/png": "[encoded data removed]",
            "text/plain": [
              "<Figure size 432x288 with 1 Axes>"
            ]
          },
          "metadata": {
            "tags": [],
            "needs_background": "light"
          }
        }
      ]
    },
    {
      "cell_type": "code",
      "metadata": {
        "colab_type": "code",
        "id": "Qj2GGQSQ674q",
        "outputId": "d588f64a-72ce-4787-d40c-a3680710b4a9",
        "colab": {
          "base_uri": "https://localhost:8080/",
          "height": 295
        }
      },
      "source": [
        "plt.plot(Time, TrainLoss, color='red', linewidth=3)\n",
        "plt.plot(Time, ValidLoss, color='blue', linewidth=3)\n",
        "plt.axis\n",
        "plt.title('red:TrainLoss, blue:ValidLoss')\n",
        "plt.xlabel('Time')\n",
        "plt.ylabel('Loss')\n",
        "plt.show()"
      ],
      "execution_count": 0,
      "outputs": [
        {
          "output_type": "display_data",
          "data": {
            "image/png": "[encoded data removed]",
            "text/plain": [
              "<Figure size 432x288 with 1 Axes>"
            ]
          },
          "metadata": {
            "tags": [],
            "needs_background": "light"
          }
        }
      ]
    },
    {
      "cell_type": "markdown",
      "metadata": {
        "id": "S1-8w8_88la1",
        "colab_type": "text"
      },
      "source": [
        "MODEL4 - LSTM(bi=no, em=no)"
      ]
    },
    {
      "cell_type": "code",
      "metadata": {
        "colab_type": "code",
        "id": "YxG1XSTo82nc",
        "colab": {}
      },
      "source": [
        "class Text_LSTM3(nn.Module):\n",
        "    def __init__(self, vocab_size, hidden_dim, output_dim, num_layers, dropout_d):\n",
        "        super(Text_LSTM3, self).__init__()\n",
        "        self.num_layers = num_layers\n",
        "        self.hidden_dim = hidden_dim\n",
        "        self.input_size = vocab_size\n",
        "        self.n_embed = 1\n",
        "        self.rnn = nn.LSTM(\n",
        "                           input_size = self.n_embed,\n",
        "                           hidden_size = hidden_dim, \n",
        "                           num_layers = num_layers,  \n",
        "                           dropout=dropout_d,\n",
        "                           batch_first=True)\n",
        "        \n",
        "        self.dropout = nn.Dropout(dropout_d)\n",
        "        self.fc1 = nn.Linear(hidden_dim, output_dim)\n",
        "        self.act = nn.Sigmoid()\n",
        "\n",
        "    def forward(self, sent, sent_len):\n",
        "        unembed_sent = sent.view(sent.size(0),-1,self.n_embed).float()\n",
        "        _, outputs = self.rnn(unembed_sent)\n",
        "        outputs = outputs[:,-1,:]\n",
        "        outputs = self.act(self.fc(self.dropout(outputs)))\n",
        "        # padded = nn.utils.rnn.pack_padded_sequence(sent.unsqueeze(0), sent_len, batch_first=True)\n",
        "        # packed_outputs, (hidden, cell) = self.lstm(sent)\n",
        "        # hidden = torch.cat((hidden[-2,:,:], hidden[-1,:,:]), dim = 1)\n",
        "        # send_emb = self.dropout(packed_outputs)\n",
        "        # dense_outputs = self.fc1(send_emb)\n",
        "        # outputs=self.act(dense_outputs)\n",
        "\n",
        "        return outputs\n",
        "        "
      ],
      "execution_count": 0,
      "outputs": []
    },
    {
      "cell_type": "code",
      "metadata": {
        "colab_type": "code",
        "outputId": "d499b6b6-f84c-40de-965e-e3477ab1a6c7",
        "id": "rQo9-e7a82ni",
        "colab": {
          "base_uri": "https://localhost:8080/",
          "height": 241
        }
      },
      "source": [
        "size_of_vocab = len(txt_field.vocab)\n",
        "\n",
        "num_hidden = 128\n",
        "num_output = 1\n",
        "num_layers = 1\n",
        "dropout_d = 0.5\n",
        "\n",
        "Model4 = Text_LSTM3(size_of_vocab, num_hidden,num_output, num_layers, dropout_d)\n",
        "optimizer = optim.Adam(Model4.parameters())\n",
        "Model4 = Model4.to(device)\n",
        "\n",
        "def count_parameters(Model4):\n",
        "    temp = sum(p.numel() for p in Model4.parameters() if p.requires_grad)\n",
        "    print(f'The Model4 architecture:\\n\\n', Model4)\n",
        "    print(f'\\nThe Model4 has {temp:,} trainable parameters')\n",
        "    \n",
        "count_parameters(Model4)"
      ],
      "execution_count": 36,
      "outputs": [
        {
          "output_type": "stream",
          "text": [
            "The Model4 architecture:\n",
            "\n",
            " Text_LSTM3(\n",
            "  (rnn): LSTM(1, 128, batch_first=True, dropout=0.5)\n",
            "  (dropout): Dropout(p=0.5, inplace=False)\n",
            "  (fc1): Linear(in_features=128, out_features=1, bias=True)\n",
            "  (act): Sigmoid()\n",
            ")\n",
            "\n",
            "The Model4 has 67,201 trainable parameters\n"
          ],
          "name": "stdout"
        },
        {
          "output_type": "stream",
          "text": [
            "/usr/local/lib/python3.6/dist-packages/torch/nn/modules/rnn.py:50: UserWarning: dropout option adds dropout after all but last recurrent layer, so non-zero dropout expects num_layers greater than 1, but got dropout=0.5 and num_layers=1\n",
            "  \"num_layers={}\".format(dropout, num_layers))\n"
          ],
          "name": "stderr"
        }
      ]
    },
    {
      "cell_type": "code",
      "metadata": {
        "colab_type": "code",
        "id": "crOjibuQ82nm",
        "colab": {}
      },
      "source": [
        "N_EPOCHS = 10\n",
        "best_valid_loss = float('inf')\n",
        "\n",
        "Time = []\n",
        "TrainLoss = []\n",
        "ValidLoss = []\n",
        "TrainAccu = []\n",
        "ValidAccu = []\n",
        "for epoch in range(N_EPOCHS):\n",
        "     \n",
        "\n",
        "    train_loss, train_acc = train(Model4, train_iter, optimizer, criterion)\n",
        "    valid_loss, valid_acc = train(Model4, valid_iter, optimizer, criterion)\n",
        "    \n",
        "    #save the best model\n",
        "    if valid_loss < best_valid_loss:\n",
        "        best_valid_loss = valid_loss\n",
        "        torch.save(Model4.state_dict(), 'saved_weights.pt')\n",
        "\n",
        "    Time.append(epoch)\n",
        "    TrainLoss.append(train_loss)\n",
        "    ValidLoss.append(valid_loss)\n",
        "    TrainAccu.append(train_acc)\n",
        "    ValidAccu.append(valid_acc)\n",
        "\n",
        "    print(f'\\tTrain Loss: {train_loss:.3f} | Train Acc: {train_acc*100:.2f}%')\n",
        "    print(f'\\t Val. Loss: {valid_loss:.3f} |  Val. Acc: {valid_acc*100:.2f}%')"
      ],
      "execution_count": 0,
      "outputs": []
    },
    {
      "cell_type": "code",
      "metadata": {
        "id": "gCu9KYH9iXdY",
        "colab_type": "code",
        "colab": {}
      },
      "source": [
        "baseline model, model 1 and model\n",
        "2 in one plot."
      ],
      "execution_count": 0,
      "outputs": []
    },
    {
      "cell_type": "code",
      "metadata": {
        "id": "uwPETBw-EZ5h",
        "colab_type": "code",
        "colab": {}
      },
      "source": [
        ""
      ],
      "execution_count": 0,
      "outputs": []
    },
    {
      "cell_type": "code",
      "metadata": {
        "id": "UGExQny2EZyP",
        "colab_type": "code",
        "colab": {}
      },
      "source": [
        ""
      ],
      "execution_count": 0,
      "outputs": []
    },
    {
      "cell_type": "code",
      "metadata": {
        "id": "7CHkKqmeEZtt",
        "colab_type": "code",
        "colab": {}
      },
      "source": [
        ""
      ],
      "execution_count": 0,
      "outputs": []
    },
    {
      "cell_type": "code",
      "metadata": {
        "id": "JoU4pCV6EZoW",
        "colab_type": "code",
        "colab": {}
      },
      "source": [
        ""
      ],
      "execution_count": 0,
      "outputs": []
    },
    {
      "cell_type": "code",
      "metadata": {
        "id": "KPTZExNVEZgi",
        "colab_type": "code",
        "colab": {}
      },
      "source": [
        ""
      ],
      "execution_count": 0,
      "outputs": []
    },
    {
      "cell_type": "markdown",
      "metadata": {
        "id": "nzhPFGVAEZI7",
        "colab_type": "text"
      },
      "source": [
        ""
      ]
    },
    {
      "cell_type": "markdown",
      "metadata": {
        "id": "LA0qFEU5EZGA",
        "colab_type": "text"
      },
      "source": [
        ""
      ]
    },
    {
      "cell_type": "markdown",
      "metadata": {
        "id": "e1x5MW_hiZTW",
        "colab_type": "text"
      },
      "source": [
        "Baseline model vs Model1 vs Model2"
      ]
    },
    {
      "cell_type": "code",
      "metadata": {
        "id": "eyy2vq0x6MsH",
        "colab_type": "code",
        "colab": {
          "base_uri": "https://localhost:8080/",
          "height": 357
        },
        "outputId": "36c12e4d-259f-468e-becd-60e06b231e8e"
      },
      "source": [
        "N_EPOCHS = 10\n",
        "best_valid_loss = float('inf')\n",
        "\n",
        "Time = []\n",
        "TrainLoss_base = []\n",
        "ValidLoss_base = []\n",
        "TrainAccu_base = []\n",
        "ValidAccu_base = []\n",
        "\n",
        "for epoch in range(N_EPOCHS):\n",
        "     \n",
        "\n",
        "    train_loss, train_acc = train(RNN_model, train_iter, optimizer, criterion)\n",
        "    valid_loss, valid_acc = train(RNN_model, valid_iter, optimizer, criterion)\n",
        "    \n",
        "    #save the best model\n",
        "    if valid_loss < best_valid_loss:\n",
        "        best_valid_loss = valid_loss\n",
        "        torch.save(RNN_model.state_dict(), 'saved_weights.pt')\n",
        "\n",
        "    Time.append(epoch)\n",
        "    TrainLoss_base.append(train_loss)\n",
        "    ValidLoss_base.append(valid_loss)\n",
        "    TrainAccu_base.append(train_acc)\n",
        "    ValidAccu_base.append(valid_acc)\n",
        "\n",
        "    print(f'\\tTrain Loss: {train_loss:.3f} | Train Acc: {train_acc*100:.2f}%')\n",
        "    print(f'\\t Val. Loss: {valid_loss:.3f} |  Val. Acc: {valid_acc*100:.2f}%')\n"
      ],
      "execution_count": 46,
      "outputs": [
        {
          "output_type": "stream",
          "text": [
            "\tTrain Loss: 0.238 | Train Acc: 58.54%\n",
            "\t Val. Loss: 0.248 |  Val. Acc: 53.71%\n",
            "\tTrain Loss: 0.226 | Train Acc: 62.26%\n",
            "\t Val. Loss: 0.217 |  Val. Acc: 64.89%\n",
            "\tTrain Loss: 0.211 | Train Acc: 66.56%\n",
            "\t Val. Loss: 0.209 |  Val. Acc: 66.32%\n",
            "\tTrain Loss: 0.191 | Train Acc: 70.89%\n",
            "\t Val. Loss: 0.227 |  Val. Acc: 61.97%\n",
            "\tTrain Loss: 0.189 | Train Acc: 71.01%\n",
            "\t Val. Loss: 0.178 |  Val. Acc: 73.69%\n",
            "\tTrain Loss: 0.162 | Train Acc: 76.74%\n",
            "\t Val. Loss: 0.144 |  Val. Acc: 80.70%\n",
            "\tTrain Loss: 0.172 | Train Acc: 74.64%\n",
            "\t Val. Loss: 0.174 |  Val. Acc: 73.60%\n",
            "\tTrain Loss: 0.142 | Train Acc: 80.26%\n",
            "\t Val. Loss: 0.146 |  Val. Acc: 78.72%\n",
            "\tTrain Loss: 0.142 | Train Acc: 80.08%\n",
            "\t Val. Loss: 0.139 |  Val. Acc: 81.21%\n",
            "\tTrain Loss: 0.130 | Train Acc: 82.23%\n",
            "\t Val. Loss: 0.137 |  Val. Acc: 80.70%\n"
          ],
          "name": "stdout"
        }
      ]
    },
    {
      "cell_type": "code",
      "metadata": {
        "id": "Qgw10NO66Mcw",
        "colab_type": "code",
        "colab": {
          "base_uri": "https://localhost:8080/",
          "height": 357
        },
        "outputId": "a9c1b769-a2a7-482c-89f7-9a47c4ac1da8"
      },
      "source": [
        "N_EPOCHS = 10\n",
        "best_valid_loss = float('inf')\n",
        "\n",
        "Time = []\n",
        "TrainLoss_Model1 = []\n",
        "ValidLoss_Model1 = []\n",
        "TrainAccu_Model1 = []\n",
        "ValidAccu_Model1 = []\n",
        "\n",
        "for epoch in range(N_EPOCHS):\n",
        "     \n",
        "\n",
        "    train_loss, train_acc = train(Model1, train_iter, optimizer, criterion)\n",
        "    valid_loss, valid_acc = train(Model1, valid_iter, optimizer, criterion)\n",
        "    \n",
        "    #save the best model\n",
        "    if valid_loss < best_valid_loss:\n",
        "        best_valid_loss = valid_loss\n",
        "        torch.save(Model1.state_dict(), 'saved_weights.pt')\n",
        "\n",
        "    Time.append(epoch)\n",
        "    TrainLoss_Model1.append(train_loss)\n",
        "    ValidLoss_Model1.append(valid_loss)\n",
        "    TrainAccu_Model1.append(train_acc)\n",
        "    ValidAccu_Model1.append(valid_acc)\n",
        "\n",
        "    print(f'\\tTrain Loss: {train_loss:.3f} | Train Acc: {train_acc*100:.2f}%')\n",
        "    print(f'\\t Val. Loss: {valid_loss:.3f} |  Val. Acc: {valid_acc*100:.2f}%')"
      ],
      "execution_count": 61,
      "outputs": [
        {
          "output_type": "stream",
          "text": [
            "\tTrain Loss: 0.182 | Train Acc: 71.92%\n",
            "\t Val. Loss: 0.117 |  Val. Acc: 83.26%\n",
            "\tTrain Loss: 0.083 | Train Acc: 88.87%\n",
            "\t Val. Loss: 0.069 |  Val. Acc: 90.56%\n",
            "\tTrain Loss: 0.055 | Train Acc: 92.93%\n",
            "\t Val. Loss: 0.047 |  Val. Acc: 94.19%\n",
            "\tTrain Loss: 0.039 | Train Acc: 95.32%\n",
            "\t Val. Loss: 0.035 |  Val. Acc: 95.51%\n",
            "\tTrain Loss: 0.027 | Train Acc: 96.78%\n",
            "\t Val. Loss: 0.028 |  Val. Acc: 96.54%\n",
            "\tTrain Loss: 0.020 | Train Acc: 97.70%\n",
            "\t Val. Loss: 0.022 |  Val. Acc: 97.41%\n",
            "\tTrain Loss: 0.017 | Train Acc: 98.11%\n",
            "\t Val. Loss: 0.015 |  Val. Acc: 98.50%\n",
            "\tTrain Loss: 0.013 | Train Acc: 98.63%\n",
            "\t Val. Loss: 0.015 |  Val. Acc: 98.30%\n",
            "\tTrain Loss: 0.011 | Train Acc: 98.77%\n",
            "\t Val. Loss: 0.014 |  Val. Acc: 98.54%\n",
            "\tTrain Loss: 0.010 | Train Acc: 98.86%\n",
            "\t Val. Loss: 0.014 |  Val. Acc: 98.37%\n"
          ],
          "name": "stdout"
        }
      ]
    },
    {
      "cell_type": "code",
      "metadata": {
        "id": "QUToPhSGDKVt",
        "colab_type": "code",
        "colab": {
          "base_uri": "https://localhost:8080/",
          "height": 357
        },
        "outputId": "4e14409c-ec59-40c4-ef1d-55eb61a3525e"
      },
      "source": [
        "N_EPOCHS = 10\n",
        "best_valid_loss = float('inf')\n",
        "\n",
        "Time = []\n",
        "TrainLoss_Model2 = []\n",
        "ValidLoss_Model2 = []\n",
        "TrainAccu_Model2 = []\n",
        "ValidAccu_Model2 = []\n",
        "\n",
        "for epoch in range(N_EPOCHS):\n",
        "     \n",
        "\n",
        "    train_loss, train_acc = train(Model2, train_iter, optimizer, criterion)\n",
        "    valid_loss, valid_acc = train(Model2, valid_iter, optimizer, criterion)\n",
        "    \n",
        "    #save the best model\n",
        "    if valid_loss < best_valid_loss:\n",
        "        best_valid_loss = valid_loss\n",
        "        torch.save(Model2.state_dict(), 'saved_weights.pt')\n",
        "\n",
        "    Time.append(epoch)\n",
        "    TrainLoss_Model2.append(train_loss)\n",
        "    ValidLoss_Model2.append(valid_loss)\n",
        "    TrainAccu_Model2.append(train_acc)\n",
        "    ValidAccu_Model2.append(valid_acc)\n",
        "\n",
        "    print(f'\\tTrain Loss: {train_loss:.3f} | Train Acc: {train_acc*100:.2f}%')\n",
        "    print(f'\\t Val. Loss: {valid_loss:.3f} |  Val. Acc: {valid_acc*100:.2f}%')"
      ],
      "execution_count": 69,
      "outputs": [
        {
          "output_type": "stream",
          "text": [
            "\tTrain Loss: 0.214 | Train Acc: 65.25%\n",
            "\t Val. Loss: 0.201 |  Val. Acc: 69.55%\n",
            "\tTrain Loss: 0.160 | Train Acc: 76.63%\n",
            "\t Val. Loss: 0.107 |  Val. Acc: 85.11%\n",
            "\tTrain Loss: 0.083 | Train Acc: 88.94%\n",
            "\t Val. Loss: 0.068 |  Val. Acc: 91.29%\n",
            "\tTrain Loss: 0.058 | Train Acc: 92.55%\n",
            "\t Val. Loss: 0.058 |  Val. Acc: 92.43%\n",
            "\tTrain Loss: 0.043 | Train Acc: 94.65%\n",
            "\t Val. Loss: 0.038 |  Val. Acc: 95.48%\n",
            "\tTrain Loss: 0.031 | Train Acc: 96.23%\n",
            "\t Val. Loss: 0.028 |  Val. Acc: 96.64%\n",
            "\tTrain Loss: 0.024 | Train Acc: 97.25%\n",
            "\t Val. Loss: 0.024 |  Val. Acc: 97.21%\n",
            "\tTrain Loss: 0.019 | Train Acc: 97.86%\n",
            "\t Val. Loss: 0.022 |  Val. Acc: 97.71%\n",
            "\tTrain Loss: 0.014 | Train Acc: 98.45%\n",
            "\t Val. Loss: 0.019 |  Val. Acc: 98.07%\n",
            "\tTrain Loss: 0.013 | Train Acc: 98.64%\n",
            "\t Val. Loss: 0.016 |  Val. Acc: 98.40%\n"
          ],
          "name": "stdout"
        }
      ]
    },
    {
      "cell_type": "code",
      "metadata": {
        "id": "rb1AGCpW61uZ",
        "colab_type": "code",
        "colab": {
          "base_uri": "https://localhost:8080/",
          "height": 357
        },
        "outputId": "5f831017-a528-4024-d1b5-720ffda457a1"
      },
      "source": [
        "N_EPOCHS = 10\n",
        "best_valid_loss = float('inf')\n",
        "\n",
        "Time = []\n",
        "TrainLoss_Model3 = []\n",
        "ValidLoss_Model3 = []\n",
        "TrainAccu_Model3 = []\n",
        "ValidAccu_Model3 = []\n",
        "\n",
        "for epoch in range(N_EPOCHS):\n",
        "     \n",
        "\n",
        "    train_loss, train_acc = train(Model3, train_iter, optimizer, criterion)\n",
        "    valid_loss, valid_acc = train(Model3, valid_iter, optimizer, criterion)\n",
        "    \n",
        "    #save the best model\n",
        "    if valid_loss < best_valid_loss:\n",
        "        best_valid_loss = valid_loss\n",
        "        torch.save(Model3.state_dict(), 'saved_weights.pt')\n",
        "\n",
        "    Time.append(epoch)\n",
        "    TrainLoss_Model3.append(train_loss)\n",
        "    ValidLoss_Model3.append(valid_loss)\n",
        "    TrainAccu_Model3.append(train_acc)\n",
        "    ValidAccu_Model3.append(valid_acc)\n",
        "\n",
        "    print(f'\\tTrain Loss: {train_loss:.3f} | Train Acc: {train_acc*100:.2f}%')\n",
        "    print(f'\\t Val. Loss: {valid_loss:.3f} |  Val. Acc: {valid_acc*100:.2f}%')"
      ],
      "execution_count": 78,
      "outputs": [
        {
          "output_type": "stream",
          "text": [
            "\tTrain Loss: 0.198 | Train Acc: 68.86%\n",
            "\t Val. Loss: 0.151 |  Val. Acc: 78.63%\n",
            "\tTrain Loss: 0.137 | Train Acc: 80.58%\n",
            "\t Val. Loss: 0.102 |  Val. Acc: 85.92%\n",
            "\tTrain Loss: 0.079 | Train Acc: 89.26%\n",
            "\t Val. Loss: 0.079 |  Val. Acc: 89.63%\n",
            "\tTrain Loss: 0.061 | Train Acc: 92.01%\n",
            "\t Val. Loss: 0.059 |  Val. Acc: 92.52%\n",
            "\tTrain Loss: 0.046 | Train Acc: 94.18%\n",
            "\t Val. Loss: 0.046 |  Val. Acc: 94.22%\n",
            "\tTrain Loss: 0.033 | Train Acc: 96.02%\n",
            "\t Val. Loss: 0.032 |  Val. Acc: 96.44%\n",
            "\tTrain Loss: 0.026 | Train Acc: 96.95%\n",
            "\t Val. Loss: 0.026 |  Val. Acc: 97.01%\n",
            "\tTrain Loss: 0.019 | Train Acc: 97.95%\n",
            "\t Val. Loss: 0.021 |  Val. Acc: 97.67%\n",
            "\tTrain Loss: 0.014 | Train Acc: 98.47%\n",
            "\t Val. Loss: 0.020 |  Val. Acc: 97.81%\n",
            "\tTrain Loss: 0.012 | Train Acc: 98.64%\n",
            "\t Val. Loss: 0.016 |  Val. Acc: 98.27%\n"
          ],
          "name": "stdout"
        }
      ]
    },
    {
      "cell_type": "code",
      "metadata": {
        "id": "hf5ijBqvmFwx",
        "colab_type": "code",
        "colab": {
          "base_uri": "https://localhost:8080/",
          "height": 295
        },
        "outputId": "614e5dcd-18e9-48ce-c464-8b223d758922"
      },
      "source": [
        "plt.plot(Time, TrainLoss_Model1, color='red', linewidth=3)\n",
        "plt.plot(Time, TrainLoss_Model2, color='blue', linewidth=3)\n",
        "plt.plot(Time, TrainLoss_base, color='orange', linewidth=3)\n",
        "plt.axis\n",
        "plt.title('orange:TrainLoss_Base, red:TrainLoss_Model1, blue:TrainLoss_Model2')\n",
        "plt.xlabel('Time')\n",
        "plt.ylabel('TrainLoss')\n",
        "plt.show()"
      ],
      "execution_count": 81,
      "outputs": [
        {
          "output_type": "display_data",
          "data": {
            "image/png": "[encoded data removed]",
            "text/plain": [
              "<Figure size 432x288 with 1 Axes>"
            ]
          },
          "metadata": {
            "tags": [],
            "needs_background": "light"
          }
        }
      ]
    },
    {
      "cell_type": "code",
      "metadata": {
        "id": "PaWp7uir1-FN",
        "colab_type": "code",
        "colab": {
          "base_uri": "https://localhost:8080/",
          "height": 295
        },
        "outputId": "e5ad1dd1-d5a0-477a-9ca9-41d68310dd80"
      },
      "source": [
        "plt.plot(Time, ValidLoss_Model1, color='red', linewidth=3)\n",
        "plt.plot(Time, ValidLoss_Model2, color='blue', linewidth=3)\n",
        "plt.plot(Time, ValidLoss_base, color='orange', linewidth=3)\n",
        "plt.axis\n",
        "plt.title('orange:ValidLoss_Base, red:ValidLoss_Model1, blue:ValidLoss_Model2')\n",
        "plt.xlabel('Time')\n",
        "plt.ylabel('TrainLoss')\n",
        "plt.show()"
      ],
      "execution_count": 83,
      "outputs": [
        {
          "output_type": "display_data",
          "data": {
            "image/png": "[encoded data removed]",
            "text/plain": [
              "<Figure size 432x288 with 1 Axes>"
            ]
          },
          "metadata": {
            "tags": [],
            "needs_background": "light"
          }
        }
      ]
    },
    {
      "cell_type": "code",
      "metadata": {
        "id": "ffEw3jV12rcy",
        "colab_type": "code",
        "colab": {}
      },
      "source": [
        ""
      ],
      "execution_count": 0,
      "outputs": []
    },
    {
      "cell_type": "code",
      "metadata": {
        "id": "GpVWOsbH2sEG",
        "colab_type": "code",
        "colab": {
          "base_uri": "https://localhost:8080/",
          "height": 295
        },
        "outputId": "e8dfb3aa-0976-40ee-edcd-386ff78d9271"
      },
      "source": [
        "plt.plot(Time, TrainLoss_Model2, color='red', linewidth=3)\n",
        "plt.plot(Time, TrainLoss_Model3, color='blue', linewidth=3)\n",
        "plt.axis\n",
        "plt.title('red:TrainLoss_Model2, blue:TrainLoss_Model3')\n",
        "plt.xlabel('Time')\n",
        "plt.ylabel('TrainLoss')\n",
        "plt.show()"
      ],
      "execution_count": 84,
      "outputs": [
        {
          "output_type": "display_data",
          "data": {
            "image/png": "[encoded data removed]",
            "text/plain": [
              "<Figure size 432x288 with 1 Axes>"
            ]
          },
          "metadata": {
            "tags": [],
            "needs_background": "light"
          }
        }
      ]
    },
    {
      "cell_type": "code",
      "metadata": {
        "id": "FWzwUitI7a-9",
        "colab_type": "code",
        "colab": {
          "base_uri": "https://localhost:8080/",
          "height": 295
        },
        "outputId": "7a3e1fda-a43d-471a-ca5b-14eb528f1fba"
      },
      "source": [
        "plt.plot(Time, ValidLoss_Model1, color='red', linewidth=3)\n",
        "plt.plot(Time, ValidLoss_Model2, color='blue', linewidth=3)\n",
        "plt.axis\n",
        "plt.title('red:ValidLoss_Model2, blue:ValidLoss_Model3')\n",
        "plt.xlabel('Time')\n",
        "plt.ylabel('TrainLoss')\n",
        "plt.show()"
      ],
      "execution_count": 85,
      "outputs": [
        {
          "output_type": "display_data",
          "data": {
            "image/png": "[encoded data removed]",
            "text/plain": [
              "<Figure size 432x288 with 1 Axes>"
            ]
          },
          "metadata": {
            "tags": [],
            "needs_background": "light"
          }
        }
      ]
    },
    {
      "cell_type": "code",
      "metadata": {
        "id": "Dm5oD29_L0bX",
        "colab_type": "code",
        "colab": {}
      },
      "source": [
        ""
      ],
      "execution_count": 0,
      "outputs": []
    },
    {
      "cell_type": "code",
      "metadata": {
        "id": "Gl8DP3gaMHc-",
        "colab_type": "code",
        "colab": {}
      },
      "source": [
        ""
      ],
      "execution_count": 0,
      "outputs": []
    },
    {
      "cell_type": "code",
      "metadata": {
        "colab_type": "code",
        "outputId": "6fced1a6-3276-4708-b926-d5d1f3ddf424",
        "id": "c-rPjBFsMHkZ",
        "colab": {
          "base_uri": "https://localhost:8080/",
          "height": 295
        }
      },
      "source": [
        "plt.plot(Time, TrainLoss_Model1, color='blue', linewidth=3)\n",
        "plt.plot(Time, TrainLoss_base, color='orange', linewidth=3)\n",
        "plt.axis\n",
        "plt.title('orange:TrainLoss_Base, blue:TrainLoss_Model1')\n",
        "plt.xlabel('Time')\n",
        "plt.ylabel('TrainLoss')\n",
        "plt.show()"
      ],
      "execution_count": 87,
      "outputs": [
        {
          "output_type": "display_data",
          "data": {
            "image/png": "[encoded data removed]",
            "text/plain": [
              "<Figure size 432x288 with 1 Axes>"
            ]
          },
          "metadata": {
            "tags": [],
            "needs_background": "light"
          }
        }
      ]
    },
    {
      "cell_type": "code",
      "metadata": {
        "colab_type": "code",
        "outputId": "405de56e-b13b-49ab-d01b-b38cfa55a418",
        "id": "1ffDnKVhMHkd",
        "colab": {
          "base_uri": "https://localhost:8080/",
          "height": 295
        }
      },
      "source": [
        "plt.plot(Time, ValidLoss_Model1, color='blue', linewidth=3)\n",
        "plt.plot(Time, ValidLoss_base, color='orange', linewidth=3)\n",
        "plt.axis\n",
        "plt.title('orange:ValidLoss_Base, blue:ValidLoss_Model1')\n",
        "plt.xlabel('Time')\n",
        "plt.ylabel('TrainLoss')\n",
        "plt.show()"
      ],
      "execution_count": 88,
      "outputs": [
        {
          "output_type": "display_data",
          "data": {
            "image/png": "[encoded data removed]",
            "text/plain": [
              "<Figure size 432x288 with 1 Axes>"
            ]
          },
          "metadata": {
            "tags": [],
            "needs_background": "light"
          }
        }
      ]
    },
    {
      "cell_type": "markdown",
      "metadata": {
        "id": "HvKZBmjZMHNf",
        "colab_type": "text"
      },
      "source": [
        ""
      ]
    }
  ]
}